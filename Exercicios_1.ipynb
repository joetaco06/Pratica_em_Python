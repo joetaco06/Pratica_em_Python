{
 "cells": [
  {
   "cell_type": "markdown",
   "metadata": {},
   "source": [
    "1. Escrevendo um programa que calcule a média aritmética de dois números"
   ]
  },
  {
   "cell_type": "code",
   "execution_count": 3,
   "metadata": {},
   "outputs": [
    {
     "name": "stdout",
     "output_type": "stream",
     "text": [
      "A média aritmética dos números é: 7.0\n"
     ]
    }
   ],
   "source": [
    "# Solicita ao usuario para digitar os dois números\n",
    "numero1 = float(input(\"Digite o primeiro número: \"))\n",
    "numero2 = float(input(\"Digite o segundo número: \"))\n",
    "\n",
    "# Calcula a média aritmética dos números\n",
    "media = (numero1 + numero2)/2\n",
    "\n",
    "# Exibe o resultado da média aritmética\n",
    "print(\"A média aritmética dos números é:\", media)\n"
   ]
  },
  {
   "cell_type": "markdown",
   "metadata": {},
   "source": [
    "2. Criando um programa que calcule e exiba a média aritmética de três notas informadas pelo usuário.\n"
   ]
  },
  {
   "cell_type": "code",
   "execution_count": 8,
   "metadata": {},
   "outputs": [
    {
     "name": "stdout",
     "output_type": "stream",
     "text": [
      "La nota média é:  6.0\n"
     ]
    }
   ],
   "source": [
    "# Solicita ao usuário para digitar as três notas:\n",
    "\n",
    "nota1 = float(input(\"digite a primeira nota:\"))\n",
    "nota2 = float(input(\"digite a segunda nota:\"))\n",
    "nota3 = float(input(\"digite a terceira nota:\"))\n",
    "\n",
    "media = (nota1 + nota2 + nota3)/3\n",
    "\n",
    "print(\"La nota média é: \", media )\n"
   ]
  },
  {
   "cell_type": "markdown",
   "metadata": {},
   "source": [
    "3. Criar um programa que calcule e exiba o perímetro de um círculo, solicitando o raio ao usuário."
   ]
  },
  {
   "cell_type": "code",
   "execution_count": 6,
   "metadata": {},
   "outputs": [
    {
     "name": "stdout",
     "output_type": "stream",
     "text": [
      "o perímetro do círculo é: 25.13\n"
     ]
    }
   ],
   "source": [
    "import math\n",
    "\n",
    "# solicita ao usuário para digitar o raio do círculo:\n",
    "\n",
    "raio = float(input(\"introduzca o raio do círculo: \"))\n",
    "\n",
    "# Calcula o perímetro do círculo usando a fórmula P = 2 * pi * raio\n",
    "perimetro = 2 * math.pi * raio\n",
    "\n",
    "# Exibe o resultado do perímetro do círculo\n",
    "print(\"o perímetro do círculo é:\", round(perimetro,2))"
   ]
  },
  {
   "cell_type": "markdown",
   "metadata": {},
   "source": [
    "4. Criar um programa que leia duas palavras e as concatene, exibindo a palavra resultante."
   ]
  },
  {
   "cell_type": "code",
   "execution_count": 2,
   "metadata": {},
   "outputs": [
    {
     "name": "stdout",
     "output_type": "stream",
     "text": [
      "A palavra resultante da concatenacao é : holadatos\n"
     ]
    }
   ],
   "source": [
    "# Solicita ao usúario que digite duas palavras:\n",
    "palavra1 = input(\"Digite a primeira palavra:\")\n",
    "palavra2 = input(\"Digite a segunda palavra:\") \n",
    "\n",
    "# Concatene as duas palavras utilizando o operador de concatenacao (+):\n",
    "\n",
    "palavra_resultante = palavra1 + palavra2 \n",
    "#Exibe a palavra resultante: \n",
    "\n",
    "print(\"A palavra resultante da concatenacao é :\", palavra_resultante)"
   ]
  }
 ],
 "metadata": {
  "kernelspec": {
   "display_name": "Python 3",
   "language": "python",
   "name": "python3"
  },
  "language_info": {
   "codemirror_mode": {
    "name": "ipython",
    "version": 3
   },
   "file_extension": ".py",
   "mimetype": "text/x-python",
   "name": "python",
   "nbconvert_exporter": "python",
   "pygments_lexer": "ipython3",
   "version": "3.12.0"
  }
 },
 "nbformat": 4,
 "nbformat_minor": 2
}
